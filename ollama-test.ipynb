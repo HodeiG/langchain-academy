{
 "cells": [
  {
   "cell_type": "code",
   "execution_count": 1,
   "id": "4ed87a67-fcd5-444f-bc11-427888df9885",
   "metadata": {},
   "outputs": [],
   "source": [
    "%%capture --no-stderr\n",
    "%pip install --quiet -U langgraph\n",
    "%pip install -qU langchain-ollama"
   ]
  },
  {
   "cell_type": "code",
   "execution_count": 2,
   "id": "a96d512d-669c-4f0d-a7c5-958cf5d83cb7",
   "metadata": {},
   "outputs": [],
   "source": [
    "from langchain_community.chat_models.llama_edge import LlamaEdgeChatService\n",
    "from langchain_core.messages import HumanMessage, SystemMessage, AIMessage\n",
    "from langchain_ollama import ChatOllama\n",
    "\n",
    "llm = ChatOllama(\n",
    "    model=\"llama3.1:8b-instruct-q8_0\",\n",
    "    temperature=0,\n",
    "    # other params...\n",
    ")"
   ]
  },
  {
   "cell_type": "code",
   "execution_count": 3,
   "id": "012d8db1-61b9-4813-b375-b2858a638f31",
   "metadata": {},
   "outputs": [
    {
     "name": "stdout",
     "output_type": "stream",
     "text": [
      "<|python_tag|>wolfram_alpha.call(query=\"solve x^3 - 4x^2 + 6x - 24 = 0\")\n"
     ]
    }
   ],
   "source": [
    "messages = [\n",
    "    SystemMessage(\n",
    "        content=\"Environment: ipython\\n\"\n",
    "                \"Tools: brave_search, wolfram_alpha\\n\"\n",
    "                \"Cutting Knowledge Date: December 2023\\n\"\n",
    "                \"Today Date: 23 July 2024\\n\\n\"\n",
    "                \"You are a helpful assistant.\"\n",
    "    ),\n",
    "    HumanMessage(\n",
    "        content=\"Can you help me solve this equation: x^3 - 4x^2 + 6x - 24 = 0. Use wolfram_alpha\"\n",
    "    ),\n",
    "]\n",
    "\n",
    "response = llm.invoke(messages, stream=False)\n",
    "print(response.content)"
   ]
  }
 ],
 "metadata": {
  "kernelspec": {
   "display_name": "Python 3 (ipykernel)",
   "language": "python",
   "name": "python3"
  },
  "language_info": {
   "codemirror_mode": {
    "name": "ipython",
    "version": 3
   },
   "file_extension": ".py",
   "mimetype": "text/x-python",
   "name": "python",
   "nbconvert_exporter": "python",
   "pygments_lexer": "ipython3",
   "version": "3.10.12"
  }
 },
 "nbformat": 4,
 "nbformat_minor": 5
}
