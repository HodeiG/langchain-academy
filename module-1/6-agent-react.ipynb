{
 "cells": [
  {
   "cell_type": "markdown",
   "id": "6a44f010",
   "metadata": {},
   "source": [
    "[![Open in Colab](https://colab.research.google.com/assets/colab-badge.svg)](https://colab.research.google.com/github/langchain-ai/langchain-academy/blob/main/module-1/agent.ipynb) [![Open in LangChain Academy](https://cdn.prod.website-files.com/65b8cd72835ceeacd4449a53/66e9eba12c7b7688aa3dbb5e_LCA-badge-green.svg)](https://academy.langchain.com/courses/take/intro-to-langgraph/lessons/58239232-lesson-6-agent)"
   ]
  },
  {
   "attachments": {},
   "cell_type": "markdown",
   "id": "98f5e36a-da49-4ae2-8c74-b910a2f992fc",
   "metadata": {},
   "source": [
    "# Agent\n",
    "\n",
    "## Review\n",
    "\n",
    "We built a router.\n",
    "\n",
    "* Our chat model will decide to make a tool call or not based upon the user input\n",
    "* We use a conditional edge to route to a node that will call our tool or simply end\n",
    "\n",
    "![Screenshot 2024-08-21 at 12.44.33 PM.png](https://cdn.prod.website-files.com/65b8cd72835ceeacd4449a53/66dbac0ba0bd34b541c448cc_agent1.png)\n",
    "\n",
    "## Goals\n",
    "\n",
    "Now, we can extend this into a generic agent architecture.\n",
    "\n",
    "In the above router, we invoked the model and, if it chose to call a tool, we returned a `ToolMessage` to the user.\n",
    " \n",
    "But, what if we simply pass that `ToolMessage` *back to the model*?\n",
    "\n",
    "We can let it either (1) call another tool or (2) respond directly.\n",
    "\n",
    "This is the intuition behind [ReAct](https://react-lm.github.io/), a general agent architecture.\n",
    "  \n",
    "* `act` - let the model call specific tools \n",
    "* `observe` - pass the tool output back to the model \n",
    "* `reason` - let the model reason about the tool output to decide what to do next (e.g., call another tool or just respond directly)\n",
    "\n",
    "This [general purpose architecture](https://blog.langchain.dev/planning-for-agents/) can be applied to many types of tools. \n",
    "\n",
    "![Screenshot 2024-08-21 at 12.45.43 PM.png](https://cdn.prod.website-files.com/65b8cd72835ceeacd4449a53/66dbac0b4a2c1e5e02f3e78b_agent2.png)"
   ]
  },
  {
   "cell_type": "code",
   "execution_count": 1,
   "id": "63edff5a-724b-474d-9db8-37f0ae936c76",
   "metadata": {},
   "outputs": [],
   "source": [
    "%%capture --no-stderr\n",
    "%pip install --quiet -U langchain_openai langchain_core langgraph langchain_ollama"
   ]
  },
  {
   "cell_type": "code",
   "execution_count": 6,
   "id": "71795ff1-d6a7-448d-8b55-88bbd1ed3dbe",
   "metadata": {},
   "outputs": [],
   "source": [
    "from langchain_ollama import ChatOllama\n",
    "import random\n",
    "from typing import Union\n",
    "\n",
    "def multiply(a: int, b: int) -> int:\n",
    "    \"\"\"Multiply a and b.\n",
    "\n",
    "    Args:\n",
    "        a: first int\n",
    "        b: second int\n",
    "    \"\"\"\n",
    "    return a * b\n",
    "\n",
    "# This will be a tool\n",
    "def add(a: int, b: int) -> int:\n",
    "    \"\"\"Adds a and b.\n",
    "\n",
    "    Args:\n",
    "        a: first int\n",
    "        b: second int\n",
    "    \"\"\"\n",
    "    return a + b\n",
    "\n",
    "def divide(a: int, b: int) -> float:\n",
    "    \"\"\"Divide a and b.\n",
    "\n",
    "    Args:\n",
    "        a: first int\n",
    "        b: second int\n",
    "    \"\"\"\n",
    "    return a / b\n",
    "\n",
    "def return_random_number(x: Union[int, str]) -> float:\n",
    "    \"\"\"Multiply x by a random number\n",
    "       between 0 and 1.\n",
    "\n",
    "    Args:\n",
    "        x: first int\n",
    "    \"\"\"\n",
    "    return int(x) * random.random()\n",
    "\n",
    "tools = [add, multiply, divide]\n",
    "llm = ChatOllama(\n",
    "    model=\"llama3.1:8b-instruct-q8_0\",\n",
    "    temperature=0,\n",
    "    # other params...\n",
    ")\n",
    "\n",
    "llm_steps_checker = ChatOllama(\n",
    "    model=\"llama3.1:8b-instruct-q8_0\",\n",
    "    temperature=0,\n",
    "    # other params...\n",
    ")\n",
    "\n",
    "# For this ipynb we set parallel tool calling to false as math generally is done sequentially, and this time we have 3 tools that can do math\n",
    "# the OpenAI model specifically defaults to parallel tool calling for efficiency, see https://python.langchain.com/docs/how_to/tool_calling_parallel/\n",
    "# play around with it and see how the model behaves with math equations!\n",
    "\n",
    "#llm_with_tools = llm.bind_tools(tools, parallel_tool_calls=False)\n",
    "llm_with_tools = llm.bind_tools(tools)"
   ]
  },
  {
   "cell_type": "markdown",
   "id": "a2cec014-3023-405c-be79-de8fc7adb346",
   "metadata": {},
   "source": [
    "Let's create our LLM and prompt it with the overall desired agent behavior."
   ]
  },
  {
   "cell_type": "code",
   "execution_count": 7,
   "id": "d061813f-ebc0-432c-91ec-3b42b15c30b6",
   "metadata": {},
   "outputs": [],
   "source": [
    "from langgraph.graph import MessagesState\n",
    "from langchain_core.messages import HumanMessage, SystemMessage, AIMessage\n",
    "\n",
    "# System message\n",
    "sys_msg_assistant = SystemMessage(content=\"You are a helpful assistant tasked with performing arithmetic on a set of inputs.\"\n",
    "                        \" The tools need to be used sequentially. If you don't have the previous result, calculate\"\n",
    "                        \" that result first. You will be called back with the previous value, so don't worry about\"\n",
    "                        \" doing multiple calculations at once, which is completely wrong!\")\n",
    "\n",
    "# Node\n",
    "def assistant(state: MessagesState):\n",
    "   print(\"=> Entering assistant node\") # Debugging print\n",
    "   print(\"=> Assistant State:\", state[\"messages\"], state.get(\"tasks\")) # Debugging print\n",
    "   result = llm_with_tools.invoke([sys_msg_assistant] + state[\"messages\"], stream=False)\n",
    "   print(\"=> Assistant Result:\", result) # Debugging print\n",
    "   return {\"messages\": [result]}"
   ]
  },
  {
   "cell_type": "code",
   "execution_count": 8,
   "id": "2086f9d0-2d7c-4909-84a9-7bcec98129ea",
   "metadata": {},
   "outputs": [
    {
     "data": {
      "text/plain": [
       "RunnableBinding(bound=ChatOllama(model='llama3.1:8b-instruct-q8_0', temperature=0.0), kwargs={'format': 'json', 'structured_output_format': {'kwargs': {'method': 'json_mode'}, 'schema': typing.List[__main__.Task]}}, config={}, config_factories=[])\n",
       "| JsonOutputParser()"
      ]
     },
     "execution_count": 8,
     "metadata": {},
     "output_type": "execute_result"
    }
   ],
   "source": [
    "sys_msg_steps_manager = SystemMessage(content=\"You are a helpful assistant that splits the tasks in steps. \"\n",
    "                                              \"But do not resolve the tasks.\")\n",
    "\n",
    "def steps_manager(state: MessagesState):\n",
    "   print(\"=> Entering steps_manager node\") # Debugging print\n",
    "   print(\"=> Steps Manager State:\", state[\"messages\"]) # Debugging print\n",
    "   aimessage = llm_steps_checker.invoke([sys_msg_steps_manager] + state[\"messages\"], stream=False)\n",
    "   print(\"=> Steps Manager Result:\", aimessage) # Debugging print\n",
    "   humman_message = HumanMessage(content=\"Process each task individually\")\n",
    "   return MessagesState({\"messages\": state[\"messages\"] + [aimessage] + [humman_message]})\n",
    "\n",
    "\"\"\"\n",
    "https://medium.com/@gitmaxd/understanding-state-in-langgraph-a-comprehensive-guide-191462220997\n",
    "def add_message(state: ComplexState, message: str, is_human: bool = True) -> ComplexState:\n",
    "    new_message = HumanMessage(content=message) if is_human else AIMessage(content=message)\n",
    "    return ComplexState(\n",
    "        count=state[\"count\"],\n",
    "        messages=state[\"messages\"] + [new_message]\n",
    "    )\n",
    "\"\"\"\n",
    "from pydantic import BaseModel, Field\n",
    "from typing import List  # Import List from typing\n",
    "\n",
    "class Task(BaseModel):\n",
    "    task_id: str = Field(description=\"Task id\")\n",
    "    task_message: str = Field(description=\"The task\")\n",
    "\n",
    "\n",
    "llm_steps_checker.with_structured_output(List[Task], method=\"json_mode\")"
   ]
  },
  {
   "cell_type": "markdown",
   "id": "4eb43343-9a6f-42cb-86e6-4380f928633c",
   "metadata": {},
   "source": [
    "As before, we use `MessagesState` and define a `Tools` node with our list of tools.\n",
    "\n",
    "The `Assistant` node is just our model with bound tools.\n",
    "\n",
    "We create a graph with `Assistant` and `Tools` nodes.\n",
    "\n",
    "We add `tools_condition` edge, which routes to `End` or to `Tools` based on  whether the `Assistant` calls a tool.\n",
    "\n",
    "Now, we add one new step:\n",
    "\n",
    "We connect the `Tools` node *back* to the `Assistant`, forming a loop.\n",
    "\n",
    "* After the `assistant` node executes, `tools_condition` checks if the model's output is a tool call.\n",
    "* If it is a tool call, the flow is directed to the `tools` node.\n",
    "* The `tools` node connects back to `assistant`.\n",
    "* This loop continues as long as the model decides to call tools.\n",
    "* If the model response is not a tool call, the flow is directed to END, terminating the process."
   ]
  },
  {
   "cell_type": "code",
   "execution_count": 9,
   "id": "93d7b71d-85ce-4a70-a785-33e0144169bd",
   "metadata": {},
   "outputs": [
    {
     "data": {
      "text/plain": [
       "AIMessage(content='To solve this problem, we need to follow the order of operations:\\n\\n1. Add 3 and 4:\\n   3 + 4 = 7\\n\\n2. Multiply the output (7) by 2:\\n   7 × 2 = 14\\n\\n3. Divide the output (14) by 5:\\n   14 ÷ 5 = 2.8', additional_kwargs={}, response_metadata={'model': 'llama3.1:8b-instruct-q8_0', 'created_at': '2025-02-19T09:09:13.156589053Z', 'done': True, 'done_reason': 'stop', 'total_duration': 29998988592, 'load_duration': 6221902267, 'prompt_eval_count': 31, 'prompt_eval_duration': 1472000000, 'eval_count': 80, 'eval_duration': 22301000000, 'message': Message(role='assistant', content='', images=None, tool_calls=None)}, id='run-214f7815-c5be-477a-a4aa-edbabdd22c59-0', usage_metadata={'input_tokens': 31, 'output_tokens': 80, 'total_tokens': 111})"
      ]
     },
     "execution_count": 9,
     "metadata": {},
     "output_type": "execute_result"
    }
   ],
   "source": [
    "messages = [HumanMessage(content=\"Add 3 and 4. Multiply the output by 2. Divide the output by 5.\")]\n",
    "llm_steps_checker.invoke(\"Add 3 and 4. Multiply the output by 2. Divide the output by 5.\")"
   ]
  },
  {
   "cell_type": "code",
   "execution_count": 10,
   "id": "659c7a95-b728-414d-8f92-3879b5af2840",
   "metadata": {},
   "outputs": [
    {
     "data": {
      "text/plain": [
       "Task(id='1', message='Add 3 and 4.')"
      ]
     },
     "execution_count": 10,
     "metadata": {},
     "output_type": "execute_result"
    }
   ],
   "source": [
    "from langchain_core.messages import AIMessage\n",
    "from langchain.output_parsers import PydanticOutputParser\n",
    "\n",
    "# https://python.langchain.com/v0.1/docs/modules/model_io/output_parsers/types/pydantic/\n",
    "class Task(BaseModel):\n",
    "    id: str = Field(description=\"The task id\")\n",
    "    message: str = Field(description=\"The task message\")\n",
    "\n",
    "\n",
    "message = AIMessage(content='{\"id\": \"1\", \"message\": \"Add 3 and 4.\"}')\n",
    "parser = PydanticOutputParser(pydantic_object=Task)\n",
    "parser.invoke(message)"
   ]
  },
  {
   "cell_type": "code",
   "execution_count": 29,
   "id": "13a06a8b-ff31-4557-a9d1-1dc5119ecfa4",
   "metadata": {},
   "outputs": [
    {
     "data": {
      "text/plain": [
       "Tasks(queue=[Task(task_id='1', description='Add 3.'), Task(task_id='2', description='Add 4.'), Task(task_id='3', description='Multiply the output by 2.'), Task(task_id='4', description='Divide the output by 5.')], status='SUCCESS')"
      ]
     },
     "execution_count": 29,
     "metadata": {},
     "output_type": "execute_result"
    }
   ],
   "source": [
    "from pydantic import BaseModel, Field\n",
    "\n",
    "class Task(BaseModel):\n",
    "    task_id: str = Field(description=\"The task id\")\n",
    "    description: str = Field(description=\"The task message\")\n",
    "\n",
    "\n",
    "class Tasks(BaseModel):\n",
    "    queue: List[Task]\n",
    "    status: str = Field(description=\"Field to set the status 'SUCCESS' or 'FAILURE'\")\n",
    "                        \n",
    "\"\"\"\n",
    "class Tasks(BaseModel):\n",
    "    tasks: List[str]\n",
    "\"\"\"  \n",
    "test_structured_llm = ChatOllama(\n",
    "    model=\"llama3.1:8b-instruct-q8_0\",\n",
    "    temperature=0,\n",
    "    # other params...\n",
    ")\n",
    "PROMPT = \"\"\"\n",
    "You are an AI designed to break down a given problem into a structured list of tasks. Each task should be clearly defined and sequentially dependent on the previous one, but you should not solve the problem.\n",
    "\n",
    "Return a JSON array where each element is an object representing a single step in the process. If you cannot infer any tasks, set the \"status\" field to 'FAILURE'.\n",
    "\n",
    "Example instruction:\n",
    "    \"Take the mug out, add the tea bag and pour the boiling water.\"\n",
    "Return:\n",
    "{\n",
    "    \"queue\": [\n",
    "      {\"task_id\": \"1\", \"description\": \"Take the mug out.\"},\n",
    "      {\"task_id\": \"2\", \"description\": \"Add the tea bag.\"},\n",
    "      {\"task_id\": \"3\", \"description\": \"Pour the boiling water.\"}\n",
    "    ],\n",
    "    \"status\": \"SUCCESS\"\n",
    "}\n",
    "\n",
    "Example instruction:\n",
    "    \"The sky is blue and I am very happy\".\n",
    "Return:\n",
    "{\n",
    "    \"tasks\": [],\n",
    "    \"status\": \"FAILURE\"\n",
    "}\n",
    "\"\"\"\n",
    "structured_llm = test_structured_llm.with_structured_output(Tasks, method=\"json_mode\")\n",
    "SYSTEM_MESSAGE = SystemMessage(content=PROMPT)\n",
    "human_message = HumanMessage(content=\"Add 3 and 4, multiply the output by 2 and divide the output by 5.\")\n",
    "#structured_llm.invoke(\"Split the following sentence in tasks: 'Add 3 and 4. Multiply the output by 2. Divide the output by 5.'\")\n",
    "structured_llm.invoke([SYSTEM_MESSAGE] + [human_message])"
   ]
  },
  {
   "cell_type": "code",
   "execution_count": 58,
   "id": "d1c29a84-140e-49b1-9a1f-fd3abba4ed85",
   "metadata": {},
   "outputs": [
    {
     "name": "stdout",
     "output_type": "stream",
     "text": [
      "queue=[Task(task_id='1', description='Add 3 and 4.'), Task(task_id='2', description='Multiply by 2.')] status='SUCCESS'\n"
     ]
    }
   ],
   "source": [
    "message = AIMessage(content='{\"queue\":[{\"task_id\": \"1\", \"description\": \"Add 3 and 4.\"},{\"task_id\": \"2\", \"description\": \"Multiply by 2.\"}],\"status\":\"SUCCESS\"}')\n",
    "parser = PydanticOutputParser(pydantic_object=Tasks)\n",
    "parsed_tasks = parser.invoke(message)\n",
    "print(parsed_tasks)\n",
    "\n",
    "from typing import TypedDict, Annotated\n",
    "from langchain_core.messages import AnyMessage, ToolMessage\n",
    "from langgraph.graph.message import add_messages\n",
    "from IPython.display import Markdown, display\n",
    "def printmd(string):\n",
    "    display(Markdown(string))\n",
    "\n",
    "class TasksMessageState(TypedDict):\n",
    "    tasks: Tasks\n",
    "    messages: Annotated[list[AnyMessage], add_messages]\n",
    "    tools_called: int = 0\n",
    "    \n",
    "def steps_manager(state: TasksMessageState):\n",
    "   printmd(\"**=> Entering steps_manager node**\") # Debugging print\n",
    "   printmd(\"**=> Steps Manager State**\") # Debugging print\n",
    "   print(id(state))\n",
    "   for m in state['messages']:\n",
    "       m.pretty_print()\n",
    "   aimessage = structured_llm.invoke([SYSTEM_MESSAGE] + state[\"messages\"], stream=False)\n",
    "   #aimessage = parsed_tasks\n",
    "   printmd(\"**=> Steps Manager Result:**\")\n",
    "   print(aimessage) # Debugging print\n",
    "   #humman_message = HumanMessage(content=\"Process each task individually\")\n",
    "   return TasksMessageState(messages=state[\"messages\"], tasks=aimessage, tools_called=0)\n",
    "\n",
    "def assistant(state: TasksMessageState):\n",
    "   printmd(\"**=> Entering assistant node**\") # Debugging print\n",
    "   printmd(\"**=> Assistant State:**\") # Debugging print\n",
    "   print(state[\"tasks\"])\n",
    "   print(state[\"tools_called\"])\n",
    "   print(id(state))\n",
    "   print(id(state[\"tasks\"]))\n",
    "   for m in state['messages']:\n",
    "       m.pretty_print()\n",
    "       print(type(m))\n",
    "   tasks = state[\"tasks\"]\n",
    "   if tasks.status != \"SUCCESS\":\n",
    "       return {\"messages\": AIMessage(content=\"Unfortunately I am unable to process your request.\")}\n",
    "   elif tasks.queue:\n",
    "       task = tasks.queue.pop(0)\n",
    "       # If previous message is a ToolMessage (recurrent call), then\n",
    "       # get the value of the tool and use it\n",
    "       if isinstance(state['messages'][-1], ToolMessage):\n",
    "           last_value = str(state['messages'][-1].content)\n",
    "           human_message = HumanMessage(content=f\"You are evaluating a task that is using a previous result with value '{last_value}': '{task.description}'\")\n",
    "       else:\n",
    "           human_message = HumanMessage(content=f\"Evaluate task: '{task.description}'\")\n",
    "       human_message.pretty_print()\n",
    "       result = llm_with_tools.invoke([human_message], stream=False)\n",
    "       printmd(\"**=> Tool Result:**\") # Debugging print\n",
    "       print(type(result))\n",
    "       print(result)\n",
    "       #return {\"messages\": state['messages'] + [human_message] + [result]}\n",
    "       # It's not necessary to pass task. Apparently, if you don't pass the field it will show up when\n",
    "       # assistant gets called back. Still I am not sure how this works.\n",
    "       return {\"messages\": [result], \"tasks\": tasks, \"tools_called\": state[\"tools_called\"] + 1}  \n",
    "   else:\n",
    "       if isinstance(state['messages'][-1], ToolMessage):\n",
    "           last_value = str(state['messages'][-1].content)\n",
    "           return {\"messages\": AIMessage(content=f\"The result is {last_value}\")}\n",
    "       else:\n",
    "           # If the queue is empty but the last message wasn't\n",
    "           # a ToolMessage, then \"steps_manager\" returned an empty queue\n",
    "           # with status \"SUCCESS\".\n",
    "           return {\"messages\": \"Nothing to process\"}"
   ]
  },
  {
   "cell_type": "code",
   "execution_count": 54,
   "id": "c046dd11-9c68-431c-ae4c-819fbf2af8e1",
   "metadata": {},
   "outputs": [
    {
     "data": {
      "text/plain": [
       "Tasks(queue=[Task(task_id='1', description='Add 3 and 4.'), Task(task_id='2', description='Multiply by 2.')], status='SUCCESS')"
      ]
     },
     "execution_count": 54,
     "metadata": {},
     "output_type": "execute_result"
    }
   ],
   "source": [
    "parsed_tasks"
   ]
  },
  {
   "cell_type": "code",
   "execution_count": 59,
   "id": "aef13cd4-05a6-4084-a620-2e7b91d9a72f",
   "metadata": {},
   "outputs": [
    {
     "data": {
      "image/png": "[encoded data removed]",
      "text/plain": [
       "<IPython.core.display.Image object>"
      ]
     },
     "metadata": {},
     "output_type": "display_data"
    }
   ],
   "source": [
    "from langgraph.graph import START, StateGraph\n",
    "from langgraph.prebuilt import tools_condition\n",
    "from langgraph.prebuilt import ToolNode\n",
    "from IPython.display import Image, display\n",
    "\n",
    "# Graph\n",
    "builder = StateGraph(TasksMessageState)\n",
    "\n",
    "# Define nodes: these do the work\n",
    "builder.add_node(\"steps_manager\", steps_manager)\n",
    "builder.add_node(\"assistant\", assistant)\n",
    "builder.add_node(\"tools\", ToolNode(tools))\n",
    "\n",
    "# Define edges: these determine how the control flow moves\n",
    "builder.add_edge(START, \"steps_manager\")\n",
    "builder.add_edge(\"steps_manager\", \"assistant\")\n",
    "builder.add_conditional_edges(\n",
    "    \"assistant\",\n",
    "    # If the latest message (result) from assistant is a tool call -> tools_condition routes to tools\n",
    "    # If the latest message (result) from assistant is a not a tool call -> tools_condition routes to END\n",
    "    tools_condition,\n",
    ")\n",
    "builder.add_edge(\"tools\", \"assistant\")\n",
    "react_graph = builder.compile()\n",
    "\n",
    "# Show\n",
    "display(Image(react_graph.get_graph(xray=True).draw_mermaid_png()))"
   ]
  },
  {
   "cell_type": "code",
   "execution_count": 60,
   "id": "75602459-d8ca-47b4-9518-3f38343ebfe4",
   "metadata": {},
   "outputs": [
    {
     "data": {
      "text/markdown": [
       "**=> Entering steps_manager node**"
      ],
      "text/plain": [
       "<IPython.core.display.Markdown object>"
      ]
     },
     "metadata": {},
     "output_type": "display_data"
    },
    {
     "data": {
      "text/markdown": [
       "**=> Steps Manager State**"
      ],
      "text/plain": [
       "<IPython.core.display.Markdown object>"
      ]
     },
     "metadata": {},
     "output_type": "display_data"
    },
    {
     "name": "stdout",
     "output_type": "stream",
     "text": [
      "140056238077184\n",
      "================================\u001b[1m Human Message \u001b[0m=================================\n",
      "\n",
      "Multiply 3 and 4. Multiply the output by 2. Divide the output by 5.\n"
     ]
    },
    {
     "data": {
      "text/markdown": [
       "**=> Steps Manager Result:**"
      ],
      "text/plain": [
       "<IPython.core.display.Markdown object>"
      ]
     },
     "metadata": {},
     "output_type": "display_data"
    },
    {
     "name": "stdout",
     "output_type": "stream",
     "text": [
      "queue=[Task(task_id='1', description='Multiply 3 and 4.'), Task(task_id='2', description='Multiply the output by 2.'), Task(task_id='3', description='Divide the output by 5.')] status='SUCCESS'\n"
     ]
    },
    {
     "data": {
      "text/markdown": [
       "**=> Entering assistant node**"
      ],
      "text/plain": [
       "<IPython.core.display.Markdown object>"
      ]
     },
     "metadata": {},
     "output_type": "display_data"
    },
    {
     "data": {
      "text/markdown": [
       "**=> Assistant State:**"
      ],
      "text/plain": [
       "<IPython.core.display.Markdown object>"
      ]
     },
     "metadata": {},
     "output_type": "display_data"
    },
    {
     "name": "stdout",
     "output_type": "stream",
     "text": [
      "queue=[Task(task_id='1', description='Multiply 3 and 4.'), Task(task_id='2', description='Multiply the output by 2.'), Task(task_id='3', description='Divide the output by 5.')] status='SUCCESS'\n",
      "0\n",
      "140056209221248\n",
      "140056210136400\n",
      "================================\u001b[1m Human Message \u001b[0m=================================\n",
      "\n",
      "Multiply 3 and 4. Multiply the output by 2. Divide the output by 5.\n",
      "<class 'langchain_core.messages.human.HumanMessage'>\n",
      "================================\u001b[1m Human Message \u001b[0m=================================\n",
      "\n",
      "Evaluate task: 'Multiply 3 and 4.'\n"
     ]
    },
    {
     "data": {
      "text/markdown": [
       "**=> Tool Result:**"
      ],
      "text/plain": [
       "<IPython.core.display.Markdown object>"
      ]
     },
     "metadata": {},
     "output_type": "display_data"
    },
    {
     "name": "stdout",
     "output_type": "stream",
     "text": [
      "<class 'langchain_core.messages.ai.AIMessage'>\n",
      "content='' additional_kwargs={} response_metadata={'model': 'llama3.1:8b-instruct-q8_0', 'created_at': '2025-02-19T09:44:33.003245913Z', 'done': True, 'done_reason': 'stop', 'total_duration': 6782898089, 'load_duration': 13435131, 'prompt_eval_count': 290, 'prompt_eval_duration': 1332000000, 'eval_count': 22, 'eval_duration': 5436000000, 'message': Message(role='assistant', content='', images=None, tool_calls=[ToolCall(function=Function(name='multiply', arguments={'a': 3, 'b': 4}))])} id='run-ff69358a-fbe9-47d0-8749-ecf28bf88d0b-0' tool_calls=[{'name': 'multiply', 'args': {'a': 3, 'b': 4}, 'id': '815fb200-7a28-4a50-aac0-56b135287b14', 'type': 'tool_call'}] usage_metadata={'input_tokens': 290, 'output_tokens': 22, 'total_tokens': 312}\n"
     ]
    },
    {
     "data": {
      "text/markdown": [
       "**=> Entering assistant node**"
      ],
      "text/plain": [
       "<IPython.core.display.Markdown object>"
      ]
     },
     "metadata": {},
     "output_type": "display_data"
    },
    {
     "data": {
      "text/markdown": [
       "**=> Assistant State:**"
      ],
      "text/plain": [
       "<IPython.core.display.Markdown object>"
      ]
     },
     "metadata": {},
     "output_type": "display_data"
    },
    {
     "name": "stdout",
     "output_type": "stream",
     "text": [
      "queue=[Task(task_id='2', description='Multiply the output by 2.'), Task(task_id='3', description='Divide the output by 5.')] status='SUCCESS'\n",
      "1\n",
      "140056210087616\n",
      "140056210136400\n",
      "================================\u001b[1m Human Message \u001b[0m=================================\n",
      "\n",
      "Multiply 3 and 4. Multiply the output by 2. Divide the output by 5.\n",
      "<class 'langchain_core.messages.human.HumanMessage'>\n",
      "==================================\u001b[1m Ai Message \u001b[0m==================================\n",
      "Tool Calls:\n",
      "  multiply (815fb200-7a28-4a50-aac0-56b135287b14)\n",
      " Call ID: 815fb200-7a28-4a50-aac0-56b135287b14\n",
      "  Args:\n",
      "    a: 3\n",
      "    b: 4\n",
      "<class 'langchain_core.messages.ai.AIMessage'>\n",
      "=================================\u001b[1m Tool Message \u001b[0m=================================\n",
      "Name: multiply\n",
      "\n",
      "12\n",
      "<class 'langchain_core.messages.tool.ToolMessage'>\n",
      "================================\u001b[1m Human Message \u001b[0m=================================\n",
      "\n",
      "You are evaluating a task that is using a previous result with value '12': 'Multiply the output by 2.'\n"
     ]
    },
    {
     "data": {
      "text/markdown": [
       "**=> Tool Result:**"
      ],
      "text/plain": [
       "<IPython.core.display.Markdown object>"
      ]
     },
     "metadata": {},
     "output_type": "display_data"
    },
    {
     "name": "stdout",
     "output_type": "stream",
     "text": [
      "<class 'langchain_core.messages.ai.AIMessage'>\n",
      "content='' additional_kwargs={} response_metadata={'model': 'llama3.1:8b-instruct-q8_0', 'created_at': '2025-02-19T09:44:40.89350908Z', 'done': True, 'done_reason': 'stop', 'total_duration': 7883777746, 'load_duration': 11442017, 'prompt_eval_count': 303, 'prompt_eval_duration': 1526000000, 'eval_count': 22, 'eval_duration': 6345000000, 'message': Message(role='assistant', content='', images=None, tool_calls=[ToolCall(function=Function(name='multiply', arguments={'a': '12', 'b': '2'}))])} id='run-ad0bb71d-39f8-45e7-8946-b5ba23bc11c0-0' tool_calls=[{'name': 'multiply', 'args': {'a': 12, 'b': 2}, 'id': 'a111b165-1a97-4159-bb53-a35a0adeeb64', 'type': 'tool_call'}] usage_metadata={'input_tokens': 303, 'output_tokens': 22, 'total_tokens': 325}\n"
     ]
    },
    {
     "data": {
      "text/markdown": [
       "**=> Entering assistant node**"
      ],
      "text/plain": [
       "<IPython.core.display.Markdown object>"
      ]
     },
     "metadata": {},
     "output_type": "display_data"
    },
    {
     "data": {
      "text/markdown": [
       "**=> Assistant State:**"
      ],
      "text/plain": [
       "<IPython.core.display.Markdown object>"
      ]
     },
     "metadata": {},
     "output_type": "display_data"
    },
    {
     "name": "stdout",
     "output_type": "stream",
     "text": [
      "queue=[Task(task_id='3', description='Divide the output by 5.')] status='SUCCESS'\n",
      "2\n",
      "140056209505344\n",
      "140056210136400\n",
      "================================\u001b[1m Human Message \u001b[0m=================================\n",
      "\n",
      "Multiply 3 and 4. Multiply the output by 2. Divide the output by 5.\n",
      "<class 'langchain_core.messages.human.HumanMessage'>\n",
      "==================================\u001b[1m Ai Message \u001b[0m==================================\n",
      "Tool Calls:\n",
      "  multiply (815fb200-7a28-4a50-aac0-56b135287b14)\n",
      " Call ID: 815fb200-7a28-4a50-aac0-56b135287b14\n",
      "  Args:\n",
      "    a: 3\n",
      "    b: 4\n",
      "<class 'langchain_core.messages.ai.AIMessage'>\n",
      "=================================\u001b[1m Tool Message \u001b[0m=================================\n",
      "Name: multiply\n",
      "\n",
      "12\n",
      "<class 'langchain_core.messages.tool.ToolMessage'>\n",
      "==================================\u001b[1m Ai Message \u001b[0m==================================\n",
      "Tool Calls:\n",
      "  multiply (a111b165-1a97-4159-bb53-a35a0adeeb64)\n",
      " Call ID: a111b165-1a97-4159-bb53-a35a0adeeb64\n",
      "  Args:\n",
      "    a: 12\n",
      "    b: 2\n",
      "<class 'langchain_core.messages.ai.AIMessage'>\n",
      "=================================\u001b[1m Tool Message \u001b[0m=================================\n",
      "Name: multiply\n",
      "\n",
      "24\n",
      "<class 'langchain_core.messages.tool.ToolMessage'>\n",
      "================================\u001b[1m Human Message \u001b[0m=================================\n",
      "\n",
      "You are evaluating a task that is using a previous result with value '24': 'Divide the output by 5.'\n"
     ]
    },
    {
     "data": {
      "text/markdown": [
       "**=> Tool Result:**"
      ],
      "text/plain": [
       "<IPython.core.display.Markdown object>"
      ]
     },
     "metadata": {},
     "output_type": "display_data"
    },
    {
     "name": "stdout",
     "output_type": "stream",
     "text": [
      "<class 'langchain_core.messages.ai.AIMessage'>\n",
      "content='' additional_kwargs={} response_metadata={'model': 'llama3.1:8b-instruct-q8_0', 'created_at': '2025-02-19T09:44:47.771220685Z', 'done': True, 'done_reason': 'stop', 'total_duration': 6870977006, 'load_duration': 11518731, 'prompt_eval_count': 304, 'prompt_eval_duration': 867000000, 'eval_count': 22, 'eval_duration': 5991000000, 'message': Message(role='assistant', content='', images=None, tool_calls=[ToolCall(function=Function(name='divide', arguments={'a': '24', 'b': '5'}))])} id='run-85cf688f-465f-4703-a992-84f3eedd7d3f-0' tool_calls=[{'name': 'divide', 'args': {'a': 24, 'b': 5}, 'id': '3162d58d-8782-4e2f-87de-3a6713469c91', 'type': 'tool_call'}] usage_metadata={'input_tokens': 304, 'output_tokens': 22, 'total_tokens': 326}\n"
     ]
    },
    {
     "data": {
      "text/markdown": [
       "**=> Entering assistant node**"
      ],
      "text/plain": [
       "<IPython.core.display.Markdown object>"
      ]
     },
     "metadata": {},
     "output_type": "display_data"
    },
    {
     "data": {
      "text/markdown": [
       "**=> Assistant State:**"
      ],
      "text/plain": [
       "<IPython.core.display.Markdown object>"
      ]
     },
     "metadata": {},
     "output_type": "display_data"
    },
    {
     "name": "stdout",
     "output_type": "stream",
     "text": [
      "queue=[] status='SUCCESS'\n",
      "3\n",
      "140056210926208\n",
      "140056210136400\n",
      "================================\u001b[1m Human Message \u001b[0m=================================\n",
      "\n",
      "Multiply 3 and 4. Multiply the output by 2. Divide the output by 5.\n",
      "<class 'langchain_core.messages.human.HumanMessage'>\n",
      "==================================\u001b[1m Ai Message \u001b[0m==================================\n",
      "Tool Calls:\n",
      "  multiply (815fb200-7a28-4a50-aac0-56b135287b14)\n",
      " Call ID: 815fb200-7a28-4a50-aac0-56b135287b14\n",
      "  Args:\n",
      "    a: 3\n",
      "    b: 4\n",
      "<class 'langchain_core.messages.ai.AIMessage'>\n",
      "=================================\u001b[1m Tool Message \u001b[0m=================================\n",
      "Name: multiply\n",
      "\n",
      "12\n",
      "<class 'langchain_core.messages.tool.ToolMessage'>\n",
      "==================================\u001b[1m Ai Message \u001b[0m==================================\n",
      "Tool Calls:\n",
      "  multiply (a111b165-1a97-4159-bb53-a35a0adeeb64)\n",
      " Call ID: a111b165-1a97-4159-bb53-a35a0adeeb64\n",
      "  Args:\n",
      "    a: 12\n",
      "    b: 2\n",
      "<class 'langchain_core.messages.ai.AIMessage'>\n",
      "=================================\u001b[1m Tool Message \u001b[0m=================================\n",
      "Name: multiply\n",
      "\n",
      "24\n",
      "<class 'langchain_core.messages.tool.ToolMessage'>\n",
      "==================================\u001b[1m Ai Message \u001b[0m==================================\n",
      "Tool Calls:\n",
      "  divide (3162d58d-8782-4e2f-87de-3a6713469c91)\n",
      " Call ID: 3162d58d-8782-4e2f-87de-3a6713469c91\n",
      "  Args:\n",
      "    a: 24\n",
      "    b: 5\n",
      "<class 'langchain_core.messages.ai.AIMessage'>\n",
      "=================================\u001b[1m Tool Message \u001b[0m=================================\n",
      "Name: divide\n",
      "\n",
      "4.8\n",
      "<class 'langchain_core.messages.tool.ToolMessage'>\n"
     ]
    }
   ],
   "source": [
    "#messages = [HumanMessage(content=\"Add 3 and 4. Multiply the output by 2.\")]\n",
    "messages = [HumanMessage(content=\"Multiply 3 and 4. Multiply the output by 2. Divide the output by 5.\")]\n",
    "#messages = [HumanMessage(content=\"Champaign!\")]\n",
    "#messages = [HumanMessage(content=\"Add 3 and 4. Execute previous result by function return_random_number. Divide the last output by 5.\")]\n",
    "messages = react_graph.invoke({\"messages\": messages})"
   ]
  },
  {
   "cell_type": "code",
   "execution_count": 63,
   "id": "b517142d-c40c-48bf-a5b8-c8409427aa79",
   "metadata": {},
   "outputs": [
    {
     "name": "stdout",
     "output_type": "stream",
     "text": [
      "queue=[] status='SUCCESS'\n",
      "3\n",
      "================================\u001b[1m Human Message \u001b[0m=================================\n",
      "\n",
      "Multiply 3 and 4. Multiply the output by 2. Divide the output by 5.\n",
      "==================================\u001b[1m Ai Message \u001b[0m==================================\n",
      "Tool Calls:\n",
      "  multiply (815fb200-7a28-4a50-aac0-56b135287b14)\n",
      " Call ID: 815fb200-7a28-4a50-aac0-56b135287b14\n",
      "  Args:\n",
      "    a: 3\n",
      "    b: 4\n",
      "=================================\u001b[1m Tool Message \u001b[0m=================================\n",
      "Name: multiply\n",
      "\n",
      "12\n",
      "==================================\u001b[1m Ai Message \u001b[0m==================================\n",
      "Tool Calls:\n",
      "  multiply (a111b165-1a97-4159-bb53-a35a0adeeb64)\n",
      " Call ID: a111b165-1a97-4159-bb53-a35a0adeeb64\n",
      "  Args:\n",
      "    a: 12\n",
      "    b: 2\n",
      "=================================\u001b[1m Tool Message \u001b[0m=================================\n",
      "Name: multiply\n",
      "\n",
      "24\n",
      "==================================\u001b[1m Ai Message \u001b[0m==================================\n",
      "Tool Calls:\n",
      "  divide (3162d58d-8782-4e2f-87de-3a6713469c91)\n",
      " Call ID: 3162d58d-8782-4e2f-87de-3a6713469c91\n",
      "  Args:\n",
      "    a: 24\n",
      "    b: 5\n",
      "=================================\u001b[1m Tool Message \u001b[0m=================================\n",
      "Name: divide\n",
      "\n",
      "4.8\n",
      "==================================\u001b[1m Ai Message \u001b[0m==================================\n",
      "\n",
      "The result is 4.8\n"
     ]
    }
   ],
   "source": [
    "print(messages[\"tasks\"])\n",
    "print(messages[\"tools_called\"])\n",
    "for m in messages['messages']:\n",
    "    m.pretty_print()"
   ]
  },
  {
   "cell_type": "code",
   "execution_count": 39,
   "id": "613c9cd5-1334-4e9b-96a0-5ff0c427bcbb",
   "metadata": {},
   "outputs": [],
   "source": [
    "messages = react_graph.invoke({\"messages\": \"You did it wrong, calculated all the tool values without knowin the results\"})"
   ]
  },
  {
   "cell_type": "code",
   "execution_count": 40,
   "id": "f35bfa07-5f95-46b1-9f53-49793acb84a7",
   "metadata": {},
   "outputs": [
    {
     "name": "stdout",
     "output_type": "stream",
     "text": [
      "================================\u001b[1m Human Message \u001b[0m=================================\n",
      "\n",
      "You did it wrong, calculated all the tool values without knowin the results\n",
      "==================================\u001b[1m Ai Message \u001b[0m==================================\n",
      "Tool Calls:\n",
      "  multiply (653ae37c-e30a-46fa-81e6-a0751591749d)\n",
      " Call ID: 653ae37c-e30a-46fa-81e6-a0751591749d\n",
      "  Args:\n",
      "    a: 3\n",
      "    b: 4\n",
      "  add (b1bccdf7-f6f2-4af3-bd77-b382e047fec1)\n",
      " Call ID: b1bccdf7-f6f2-4af3-bd77-b382e047fec1\n",
      "  Args:\n",
      "    a: 2\n",
      "    b: 12\n",
      "  multiply (17ddc6b1-95bb-42a6-9a44-0605bf637808)\n",
      " Call ID: 17ddc6b1-95bb-42a6-9a44-0605bf637808\n",
      "  Args:\n",
      "    a: 3\n",
      "    b: 4\n",
      "=================================\u001b[1m Tool Message \u001b[0m=================================\n",
      "Name: multiply\n",
      "\n",
      "12\n",
      "=================================\u001b[1m Tool Message \u001b[0m=================================\n",
      "Name: add\n",
      "\n",
      "14\n",
      "=================================\u001b[1m Tool Message \u001b[0m=================================\n",
      "Name: multiply\n",
      "\n",
      "12\n",
      "==================================\u001b[1m Ai Message \u001b[0m==================================\n",
      "Tool Calls:\n",
      "  multiply (9c0dfbde-00c4-41bf-9f2b-e4477ad893c0)\n",
      " Call ID: 9c0dfbde-00c4-41bf-9f2b-e4477ad893c0\n",
      "  Args:\n",
      "    a: 3\n",
      "    b: 4\n",
      "  multiply (a0dfbc1c-cf3d-4ab8-81bf-e1130acc9eea)\n",
      " Call ID: a0dfbc1c-cf3d-4ab8-81bf-e1130acc9eea\n",
      "  Args:\n",
      "    a: 3\n",
      "    b: 4\n",
      "=================================\u001b[1m Tool Message \u001b[0m=================================\n",
      "Name: multiply\n",
      "\n",
      "12\n",
      "=================================\u001b[1m Tool Message \u001b[0m=================================\n",
      "Name: multiply\n",
      "\n",
      "12\n",
      "==================================\u001b[1m Ai Message \u001b[0m==================================\n",
      "\n",
      "To calculate the result of the original question, we need to follow the order of operations. First, we need to multiply 3 and 4, which is 12. Then, we need to add 2 and 12, which is 14. Finally, we need to multiply 3 and 4 again, but this time with the result of the previous operation, which is also 12.\n",
      "\n",
      "So, the final answer is:\n",
      "\n",
      "12 * (2 + 12) = 12 * 14 = 168\n"
     ]
    }
   ],
   "source": [
    "for m in messages['messages']:\n",
    "    m.pretty_print()"
   ]
  },
  {
   "cell_type": "markdown",
   "id": "ad869f22-9bfb-4cbe-9f30-8a307c5cdda2",
   "metadata": {},
   "source": [
    "## LangSmith\n",
    "\n",
    "We can look at traces in LangSmith."
   ]
  }
 ],
 "metadata": {
  "kernelspec": {
   "display_name": "Python 3 (ipykernel)",
   "language": "python",
   "name": "python3"
  },
  "language_info": {
   "codemirror_mode": {
    "name": "ipython",
    "version": 3
   },
   "file_extension": ".py",
   "mimetype": "text/x-python",
   "name": "python",
   "nbconvert_exporter": "python",
   "pygments_lexer": "ipython3",
   "version": "3.10.12"
  }
 },
 "nbformat": 4,
 "nbformat_minor": 5
}
